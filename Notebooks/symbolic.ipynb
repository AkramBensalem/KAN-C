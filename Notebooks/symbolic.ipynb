{
 "cells": [
  {
   "cell_type": "code",
   "execution_count": 4,
   "metadata": {},
   "outputs": [],
   "source": [
    "import torch\n",
    "from kan import *"
   ]
  },
  {
   "cell_type": "code",
   "execution_count": 5,
   "metadata": {},
   "outputs": [
    {
     "name": "stdout",
     "output_type": "stream",
     "text": [
      "cuda\n"
     ]
    }
   ],
   "source": [
    "device = torch.device(\"cuda\" if torch.cuda.is_available() else \"cpu\" )\n",
    "print(device)\n"
   ]
  },
  {
   "cell_type": "code",
   "execution_count": 6,
   "metadata": {},
   "outputs": [
    {
     "name": "stderr",
     "output_type": "stream",
     "text": [
      "C:\\Users\\AB-SMART\\AppData\\Local\\Temp\\ipykernel_9076\\3941252689.py:3: FutureWarning: You are using `torch.load` with `weights_only=False` (the current default value), which uses the default pickle module implicitly. It is possible to construct malicious pickle data which will execute arbitrary code during unpickling (See https://github.com/pytorch/pytorch/blob/main/SECURITY.md#untrusted-models for more details). In a future release, the default value for `weights_only` will be flipped to `True`. This limits the functions that could be executed during unpickling. Arbitrary objects will no longer be allowed to be loaded via this mode unless they are explicitly allowlisted by the user via `torch.serialization.add_safe_globals`. We recommend you start setting `weights_only=True` for any use case where you don't have full control of the loaded file. Please open an issue on GitHub for any issues related to this experimental feature.\n",
      "  checkpoint = torch.load('../Models/Kan_full.pth')\n"
     ]
    }
   ],
   "source": [
    "kan_model = KAN(width=[4,2,2], grid=2, k=3,device=device)\n",
    "#BUT main hyperparameters of KAN model needs to be defined\n",
    "checkpoint = torch.load('../Models/Kan_full.pth')\n",
    "\n",
    "kan_model.load_state_dict(checkpoint['model_state_dict'])\n",
    "kan_model.acts = checkpoint['acts'] \n",
    "kan_model.spline_postacts = checkpoint['spline_postacts'] \n",
    "kan_model.acts_scale = checkpoint['acts_scale']"
   ]
  },
  {
   "cell_type": "code",
   "execution_count": 7,
   "metadata": {},
   "outputs": [
    {
     "name": "stdout",
     "output_type": "stream",
     "text": [
      "fixing (0,0,0) with arcsin, r2=0.9999703168869019\n",
      "fixing (0,0,1) with arctan, r2=0.9999979734420776\n",
      "fixing (0,1,0) with sin, r2=0.9882364273071289\n",
      "fixing (0,1,1) with arctan, r2=0.9997845888137817\n",
      "fixing (0,2,0) with 1/x^3, r2=0.9999417066574097\n",
      "fixing (0,2,1) with tan, r2=0.9999423623085022\n",
      "fixing (0,3,0) with gaussian, r2=1.0000003576278687\n",
      "fixing (0,3,1) with gaussian, r2=0.9998707175254822\n",
      "fixing (1,0,0) with sigmoid, r2=0.9999203085899353\n",
      "fixing (1,0,1) with sin, r2=0.9858009815216064\n",
      "fixing (1,1,0) with sigmoid, r2=0.9972655773162842\n",
      "fixing (1,1,1) with 1/x, r2=0.9993851184844971\n"
     ]
    }
   ],
   "source": [
    "kan_model.auto_symbolic()"
   ]
  },
  {
   "cell_type": "code",
   "execution_count": 8,
   "metadata": {},
   "outputs": [
    {
     "name": "stdout",
     "output_type": "stream",
     "text": [
      "(<built-in method arcsin of type object at 0x00007FFFD10F6250>, arcsin)\n"
     ]
    }
   ],
   "source": [
    "add_symbolic('arcsin', torch.arcsin)\n",
    "print(SYMBOLIC_LIB['arcsin'])"
   ]
  },
  {
   "cell_type": "code",
   "execution_count": null,
   "metadata": {},
   "outputs": [
    {
     "name": "stdout",
     "output_type": "stream",
     "text": [
      "r2 is 0.9999703168869019\n",
      "r2 is 0.9999979734420776\n"
     ]
    }
   ],
   "source": [
    "kan_model.fix_symbolic(0,0,0,'arcsin')\n",
    "kan_model.fix_symbolic(0,0,1,'arctan')\n",
    "kan_model.fix_symbolic(0,1,0,'sin')\n",
    "kan_model.fix_symbolic(0,1,1,'arctan')\n",
    "kan_model.fix_symbolic(0,2,0,'1/x^3')\n",
    "kan_model.fix_symbolic(0,2,1,'tan')\n",
    "kan_model.fix_symbolic(0,3,0,'gaussian') \n",
    "kan_model.fix_symbolic(0,3,1,'gaussian')\n",
    "kan_model.fix_symbolic(1,0,0,'sigmoid')\n",
    "kan_model.fix_symbolic(1,0,1,'sin')\n",
    "kan_model.fix_symbolic(1,1,0,'sigmoid')\n",
    "kan_model.fix_symbolic(1,1,1,'1/x')\n"
   ]
  },
  {
   "cell_type": "code",
   "execution_count": null,
   "metadata": {},
   "outputs": [
    {
     "data": {
      "text/plain": [
       "([-6511.81*sigmoid(0.29*arcsin(0.45 - 1.05*x_1) - 0.e-2*sin(4.87*x_2 - 7.45) + 0.08*sin(0.93*x_3 - 7.19) + 1.84*sin(0.14*x_4 + 5.08) - 0.17) + 5.24*sin(0.43*arcsin(0.72 - 1.39*x_3) + 0.41*tan(0.77*x_4 + 5.6) + 4.85*atan(3.82*x_2 + 0.68) - 8.76 + 0.34*exp(-0.19*(-x_1 - 0.47)**2)) + 745.38,\n",
       "  1.31*sin(3.21*arcsin(0.45 - 1.05*x_1) - 0.07*sin(4.87*x_2 - 7.45) + 0.86*sin(0.93*x_3 - 7.19) + 20.26*sin(0.14*x_4 + 5.08) + 11.48) + 702.55*atan(0.76*arcsin(0.72 - 1.39*x_3) + 0.73*tan(0.77*x_4 + 5.6) + 8.68*atan(3.82*x_2 + 0.68) - 14.16 + 0.62*exp(-0.19*(-x_1 - 0.47)**2)) + 1026.19],\n",
       " [x_1, x_2, x_3, x_4])"
      ]
     },
     "execution_count": 20,
     "metadata": {},
     "output_type": "execute_result"
    }
   ],
   "source": [
    "kan_model.symbolic_formula()"
   ]
  },
  {
   "cell_type": "code",
   "execution_count": null,
   "metadata": {},
   "outputs": [
    {
     "data": {
      "text/plain": [
       "16"
      ]
     },
     "execution_count": 19,
     "metadata": {},
     "output_type": "execute_result"
    }
   ],
   "source": [
    "import gc\n",
    "torch.cuda.empty_cache()\n",
    "gc.collect()"
   ]
  }
 ],
 "metadata": {
  "kernelspec": {
   "display_name": "Python 3",
   "language": "python",
   "name": "python3"
  },
  "language_info": {
   "codemirror_mode": {
    "name": "ipython",
    "version": 3
   },
   "file_extension": ".py",
   "mimetype": "text/x-python",
   "name": "python",
   "nbconvert_exporter": "python",
   "pygments_lexer": "ipython3",
   "version": "3.9.0"
  }
 },
 "nbformat": 4,
 "nbformat_minor": 2
}
