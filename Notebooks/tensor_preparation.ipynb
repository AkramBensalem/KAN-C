{
 "cells": [
  {
   "cell_type": "code",
   "execution_count": 1,
   "metadata": {},
   "outputs": [],
   "source": [
    "import torch \n",
    "import pandas as pd\n",
    "from sklearn.preprocessing import MinMaxScaler\n",
    "from sklearn.model_selection import train_test_split\n",
    "from tqdm import tqdm\n",
    "import numpy as np"
   ]
  },
  {
   "cell_type": "code",
   "execution_count": 2,
   "metadata": {},
   "outputs": [
    {
     "name": "stdout",
     "output_type": "stream",
     "text": [
      "cuda\n"
     ]
    }
   ],
   "source": [
    "device = torch.device(\"cuda\" if torch.cuda.is_available() else \"cpu\" )\n",
    "print(device)"
   ]
  },
  {
   "cell_type": "code",
   "execution_count": null,
   "metadata": {},
   "outputs": [],
   "source": [
    "\"\"\"\n",
    "\n",
    "# Step 3: Convert to PyTorch tensors and split into train/test sets\n",
    "def prepare_tensors(train_df, test_df, device):\n",
    "\n",
    "    # Step 1: Select the relevant input variables (4 variables)\n",
    "    train_features = train_df[['id_k', 'iq_k', 'epsilon_k']].copy()\n",
    "    test_features = test_df[['id_k', 'iq_k', 'epsilon_k']].copy()\n",
    "\n",
    "    # Step 2: Apply the transformation for 'cos(epsilon_k)' and 'sin(epsilon_k)'\n",
    "    train_features['cos_epsilon_k'] = train_features['epsilon_k'].apply(lambda x: np.cos(x))\n",
    "    train_features['sin_epsilon_k'] = train_features['epsilon_k'].apply(lambda x: np.sin(x))\n",
    "    \n",
    "    test_features['cos_epsilon_k'] = test_features['epsilon_k'].apply(lambda x: np.cos(x))\n",
    "    test_features['sin_epsilon_k'] = test_features['epsilon_k'].apply(lambda x: np.sin(x))\n",
    "    \n",
    "    # Remove the 'epsilon_k' column after transformation\n",
    "    train_features = train_features.drop(columns=['epsilon_k'])\n",
    "    test_features = test_features.drop(columns=['epsilon_k'])\n",
    "\n",
    "    # Step 3: Select target variables (id_k1, iq_k1)\n",
    "    train_target = train_df[['id_k1', 'iq_k1']].to_numpy()\n",
    "    test_target = test_df[['id_k1', 'iq_k1']].to_numpy()\n",
    "\n",
    "    # Step 4: Scale features using MinMaxScaler\n",
    "    scaler = MinMaxScaler()\n",
    "    normalized_train_features = scaler.fit_transform(train_features)\n",
    "    normalized_test_features = scaler.transform(test_features)\n",
    "\n",
    "    # Step 5: Convert features and target variables to PyTorch tensors\n",
    "    train_data_tensor = torch.tensor(normalized_train_features.to_numpy(), dtype=torch.float32)\n",
    "    test_data_tensor = torch.tensor(normalized_test_features.to_numpy(), dtype=torch.float32)\n",
    "\n",
    "    train_target_tensor = torch.tensor(train_target, dtype=torch.float32)\n",
    "    test_target_tensor = torch.tensor(test_target, dtype=torch.float32)\n",
    "\n",
    "    # Step 6: Split the data into train and test sets (already done by using train/test CSV)\n",
    "    train_data, test_data = train_data_tensor, test_data_tensor\n",
    "    train_target, test_target = train_target_tensor, test_target_tensor\n",
    "\n",
    "    # Step 7: Create DataLoader for batching\n",
    "    train_loader = torch.utils.data.DataLoader(torch.utils.data.TensorDataset(train_data, train_target), batch_size=512, shuffle=True)\n",
    "    test_loader = torch.utils.data.DataLoader(torch.utils.data.TensorDataset(test_data, test_target), batch_size=512, shuffle=False)\n",
    "\n",
    "    # Step 8: Initialize empty tensors to store inputs and labels\n",
    "    train_inputs = torch.empty(0, 4, device=device)\n",
    "    train_labels = torch.empty(0, 2, dtype=torch.float32, device=device)\n",
    "    test_inputs = torch.empty(0, 4, device=device)\n",
    "    test_labels = torch.empty(0, 2, dtype=torch.float32, device=device)\n",
    "\n",
    "    # Process training data\n",
    "    for data, labels in tqdm(train_loader, desc=\"Processing Train Data\"):\n",
    "        train_inputs = torch.cat((train_inputs, data.to(device)), dim=0)\n",
    "        train_labels = torch.cat((train_labels, labels.to(device)), dim=0)\n",
    "\n",
    "    # Process testing data\n",
    "    for data, labels in tqdm(test_loader, desc=\"Processing Test Data\"):\n",
    "        test_inputs = torch.cat((test_inputs, data.to(device)), dim=0)\n",
    "        test_labels = torch.cat((test_labels, labels.to(device)), dim=0)\n",
    "\n",
    "    # Store the dataset in a dictionary\n",
    "    dataset = {}\n",
    "    dataset['train_input'] = train_inputs\n",
    "    dataset['test_input'] = test_inputs\n",
    "    dataset['train_label'] = train_labels\n",
    "    dataset['test_label'] = test_labels\n",
    "\n",
    "    return dataset\"\"\"\n"
   ]
  },
  {
   "cell_type": "code",
   "execution_count": null,
   "metadata": {},
   "outputs": [],
   "source": [
    "def prepare_tensors(train_df, test_df, device):\n",
    "    # Step 1: Select the relevant input variables (3 variables initially)\n",
    "    train_features = train_df[['id_k', 'iq_k', 'epsilon_k']].copy()\n",
    "    test_features = test_df[['id_k', 'iq_k', 'epsilon_k']].copy()\n",
    "\n",
    "    # Step 2: Apply the transformation for 'cos(epsilon_k)' and 'sin(epsilon_k)'\n",
    "    train_features['cos_epsilon_k'] = train_features['epsilon_k'].apply(lambda x: np.cos(x))\n",
    "    train_features['sin_epsilon_k'] = train_features['epsilon_k'].apply(lambda x: np.sin(x))\n",
    "    test_features['cos_epsilon_k'] = test_features['epsilon_k'].apply(lambda x: np.cos(x))\n",
    "    test_features['sin_epsilon_k'] = test_features['epsilon_k'].apply(lambda x: np.sin(x))\n",
    "\n",
    "    # Remove the 'epsilon_k' column after transformation\n",
    "    train_features = train_features.drop(columns=['epsilon_k'])\n",
    "    test_features = test_features.drop(columns=['epsilon_k'])\n",
    "\n",
    "    # Step 3: Select target variables (id_k1, iq_k1)\n",
    "    train_target = train_df[['id_k1', 'iq_k1']].to_numpy()\n",
    "    test_target = test_df[['id_k1', 'iq_k1']].to_numpy()\n",
    "\n",
    "    # Step 4: Scale each feature separately using its known range\n",
    "    scaler_id = MinMaxScaler(feature_range=(0, 1))\n",
    "    scaler_iq = MinMaxScaler(feature_range=(0, 1))\n",
    "    scaler_cos = MinMaxScaler(feature_range=(0, 1))\n",
    "    scaler_sin = MinMaxScaler(feature_range=(0, 1))\n",
    "\n",
    "    # Fit scalers with known ranges\n",
    "    scaler_id.fit([[-240], [0]])\n",
    "    scaler_iq.fit([[0], [240]])\n",
    "    scaler_cos.fit([[-1], [1]])\n",
    "    scaler_sin.fit([[-1], [1]])\n",
    "\n",
    "    # Apply scalers to each column\n",
    "    train_features_scaled = train_features.copy()\n",
    "    train_features_scaled['id_k'] = scaler_id.transform(train_features[['id_k']])\n",
    "    train_features_scaled['iq_k'] = scaler_iq.transform(train_features[['iq_k']])\n",
    "    train_features_scaled['cos_epsilon_k'] = scaler_cos.transform(train_features[['cos_epsilon_k']])\n",
    "    train_features_scaled['sin_epsilon_k'] = scaler_sin.transform(train_features[['sin_epsilon_k']])\n",
    "\n",
    "    test_features_scaled = test_features.copy()\n",
    "    test_features_scaled['id_k'] = scaler_id.transform(test_features[['id_k']])\n",
    "    test_features_scaled['iq_k'] = scaler_iq.transform(test_features[['iq_k']])\n",
    "    test_features_scaled['cos_epsilon_k'] = scaler_cos.transform(test_features[['cos_epsilon_k']])\n",
    "    test_features_scaled['sin_epsilon_k'] = scaler_sin.transform(test_features[['sin_epsilon_k']])\n",
    "\n",
    "    # Step 5: Convert features and target variables to PyTorch tensors\n",
    "    train_data_tensor = torch.tensor(train_features_scaled.to_numpy(), dtype=torch.float32)\n",
    "    test_data_tensor = torch.tensor(test_features_scaled.to_numpy(), dtype=torch.float32)\n",
    "    train_target_tensor = torch.tensor(train_target, dtype=torch.float32)\n",
    "    test_target_tensor = torch.tensor(test_target, dtype=torch.float32)\n",
    "\n",
    "    # Step 6: Create DataLoader for batching\n",
    "    train_loader = torch.utils.data.DataLoader(torch.utils.data.TensorDataset(train_data_tensor, train_target_tensor), batch_size=512, shuffle=True)\n",
    "    test_loader = torch.utils.data.DataLoader(torch.utils.data.TensorDataset(test_data_tensor, test_target_tensor), batch_size=512, shuffle=False)\n",
    "\n",
    "    # Step 7: Initialize empty tensors to store inputs and labels\n",
    "    train_inputs = torch.empty(0, 4, device=device)\n",
    "    train_labels = torch.empty(0, 2, dtype=torch.float32, device=device)\n",
    "    test_inputs = torch.empty(0, 4, device=device)\n",
    "    test_labels = torch.empty(0, 2, dtype=torch.float32, device=device)\n",
    "\n",
    "    # Process training data\n",
    "    for data, labels in tqdm(train_loader, desc=\"Processing Train Data\"):\n",
    "        train_inputs = torch.cat((train_inputs, data.to(device)), dim=0)\n",
    "        train_labels = torch.cat((train_labels, labels.to(device)), dim=0)\n",
    "\n",
    "    # Process testing data\n",
    "    for data, labels in tqdm(test_loader, desc=\"Processing Test Data\"):\n",
    "        test_inputs = torch.cat((test_inputs, data.to(device)), dim=0)\n",
    "        test_labels = torch.cat((test_labels, labels.to(device)), dim=0)\n",
    "\n",
    "    # Store the dataset in a dictionary\n",
    "    dataset = {}\n",
    "    dataset['train_input'] = train_inputs\n",
    "    dataset['test_input'] = test_inputs\n",
    "    dataset['train_label'] = train_labels\n",
    "    dataset['test_label'] = test_labels\n",
    "\n",
    "    return dataset\n"
   ]
  },
  {
   "cell_type": "code",
   "execution_count": 4,
   "metadata": {},
   "outputs": [
    {
     "ename": "AttributeError",
     "evalue": "'numpy.ndarray' object has no attribute 'to_numpy'",
     "output_type": "error",
     "traceback": [
      "\u001b[1;31m---------------------------------------------------------------------------\u001b[0m",
      "\u001b[1;31mAttributeError\u001b[0m                            Traceback (most recent call last)",
      "Cell \u001b[1;32mIn[4], line 5\u001b[0m\n\u001b[0;32m      3\u001b[0m test_df \u001b[38;5;241m=\u001b[39m pd\u001b[38;5;241m.\u001b[39mread_csv(\u001b[38;5;124m'\u001b[39m\u001b[38;5;124m../Data/test_data.csv\u001b[39m\u001b[38;5;124m'\u001b[39m)\n\u001b[0;32m      4\u001b[0m \u001b[38;5;66;03m# Prepare tensors and split the data\u001b[39;00m\n\u001b[1;32m----> 5\u001b[0m model1_dataset \u001b[38;5;241m=\u001b[39m \u001b[43mprepare_tensors\u001b[49m\u001b[43m(\u001b[49m\u001b[43mtrain_df\u001b[49m\u001b[43m,\u001b[49m\u001b[43mtest_df\u001b[49m\u001b[43m,\u001b[49m\u001b[43mdevice\u001b[49m\u001b[43m)\u001b[49m\n\u001b[0;32m      7\u001b[0m \u001b[38;5;28mprint\u001b[39m(\u001b[38;5;124m\"\u001b[39m\u001b[38;5;124mPrepared Dataset:\u001b[39m\u001b[38;5;124m\"\u001b[39m)\n\u001b[0;32m      8\u001b[0m \u001b[38;5;28mprint\u001b[39m(model1_dataset)\n",
      "Cell \u001b[1;32mIn[3], line 29\u001b[0m, in \u001b[0;36mprepare_tensors\u001b[1;34m(train_df, test_df, device)\u001b[0m\n\u001b[0;32m     26\u001b[0m normalized_test_features \u001b[38;5;241m=\u001b[39m scaler\u001b[38;5;241m.\u001b[39mtransform(test_features)\n\u001b[0;32m     28\u001b[0m \u001b[38;5;66;03m# Step 5: Convert features and target variables to PyTorch tensors\u001b[39;00m\n\u001b[1;32m---> 29\u001b[0m train_data_tensor \u001b[38;5;241m=\u001b[39m torch\u001b[38;5;241m.\u001b[39mtensor(\u001b[43mnormalized_train_features\u001b[49m\u001b[38;5;241;43m.\u001b[39;49m\u001b[43mto_numpy\u001b[49m(), dtype\u001b[38;5;241m=\u001b[39mtorch\u001b[38;5;241m.\u001b[39mfloat32)\n\u001b[0;32m     30\u001b[0m test_data_tensor \u001b[38;5;241m=\u001b[39m torch\u001b[38;5;241m.\u001b[39mtensor(normalized_test_features\u001b[38;5;241m.\u001b[39mto_numpy(), dtype\u001b[38;5;241m=\u001b[39mtorch\u001b[38;5;241m.\u001b[39mfloat32)\n\u001b[0;32m     32\u001b[0m train_target_tensor \u001b[38;5;241m=\u001b[39m torch\u001b[38;5;241m.\u001b[39mtensor(train_target, dtype\u001b[38;5;241m=\u001b[39mtorch\u001b[38;5;241m.\u001b[39mfloat32)\n",
      "\u001b[1;31mAttributeError\u001b[0m: 'numpy.ndarray' object has no attribute 'to_numpy'"
     ]
    }
   ],
   "source": [
    "\n",
    "# Load the training and testing data from CSV files\n",
    "train_df = pd.read_csv('../Data/train_data.csv')\n",
    "test_df = pd.read_csv('../Data/test_data.csv')\n",
    "# Prepare tensors and split the data\n",
    "model1_dataset = prepare_tensors(train_df,test_df,device)\n",
    "\n",
    "print(\"Prepared Dataset:\")\n",
    "print(model1_dataset)"
   ]
  },
  {
   "cell_type": "code",
   "execution_count": null,
   "metadata": {},
   "outputs": [
    {
     "name": "stdout",
     "output_type": "stream",
     "text": [
      "Train data shape: torch.Size([169488, 4])\n",
      "Train target shape: torch.Size([169488, 2])\n",
      "Test data shape: torch.Size([42372, 4])\n",
      "Test target shape: torch.Size([42372, 2])\n",
      "====================================\n"
     ]
    }
   ],
   "source": [
    "\n",
    "# Save a tensor\n",
    "torch.save(model1_dataset, '..\\Data\\Dataset_Electric_Motor.pt')\n",
    "print(\"Train data shape: {}\".format(model1_dataset['train_input'].shape))\n",
    "print(\"Train target shape: {}\".format(model1_dataset['train_label'].shape))\n",
    "print(\"Test data shape: {}\".format(model1_dataset['test_input'].shape))\n",
    "print(\"Test target shape: {}\".format(model1_dataset['test_label'].shape))\n",
    "print(\"====================================\")"
   ]
  }
 ],
 "metadata": {
  "kernelspec": {
   "display_name": "Python 3",
   "language": "python",
   "name": "python3"
  },
  "language_info": {
   "codemirror_mode": {
    "name": "ipython",
    "version": 3
   },
   "file_extension": ".py",
   "mimetype": "text/x-python",
   "name": "python",
   "nbconvert_exporter": "python",
   "pygments_lexer": "ipython3",
   "version": "3.9.0"
  }
 },
 "nbformat": 4,
 "nbformat_minor": 2
}
