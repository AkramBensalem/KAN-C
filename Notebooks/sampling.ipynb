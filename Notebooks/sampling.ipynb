{
 "cells": [
  {
   "cell_type": "code",
   "execution_count": 35,
   "metadata": {},
   "outputs": [
    {
     "name": "stdout",
     "output_type": "stream",
     "text": [
      "CUDA available: True\n",
      "CUDA device count: 1\n",
      "Current CUDA device: 0\n",
      "Device name: Quadro M2000M\n"
     ]
    }
   ],
   "source": [
    "import torch \n",
    "print(\"CUDA available:\", torch.cuda.is_available())\n",
    "print(\"CUDA device count:\", torch.cuda.device_count())\n",
    "print(\"Current CUDA device:\", torch.cuda.current_device())\n",
    "print(\"Device name:\", torch.cuda.get_device_name(torch.cuda.current_device()))\n"
   ]
  },
  {
   "cell_type": "code",
   "execution_count": 36,
   "metadata": {},
   "outputs": [],
   "source": [
    "import pandas as pd\n",
    "from sklearn.preprocessing import MinMaxScaler\n",
    "from sklearn.model_selection import train_test_split\n",
    "from tqdm import tqdm\n",
    "import numpy as np\n",
    "import matplotlib.pyplot as plt"
   ]
  },
  {
   "cell_type": "code",
   "execution_count": 42,
   "metadata": {},
   "outputs": [],
   "source": [
    "# Read the CSV file\n",
    "data = pd.read_csv('..\\Data\\Dataset_Electric_Motor.csv')"
   ]
  },
  {
   "cell_type": "code",
   "execution_count": null,
   "metadata": {},
   "outputs": [
    {
     "name": "stdout",
     "output_type": "stream",
     "text": [
      "Filtered data length: 586896\n",
      "Valid classes count: 3531\n",
      "Training data shape: (169488, 11)\n",
      "Testing data shape: (42372, 11)\n"
     ]
    }
   ],
   "source": [
    "import numpy as np\n",
    "import pandas as pd\n",
    "\n",
    "# Define the ranges and step sizes for x1, x2, and x3\n",
    "step_x1_x2 = 10          # Step size for x1 and x2 in Amps\n",
    "step_x3 = np.pi / 18     # Step size for x3 in radians\n",
    "\n",
    "# Generate the bins for each variable\n",
    "x1_bins = np.arange(-240, 0, step_x1_x2)\n",
    "x2_bins = np.arange(0, 241, step_x1_x2)\n",
    "x3_bins = np.arange(-np.pi, np.pi + step_x3, step_x3)\n",
    "\n",
    "# Filter for rows where x4=2 and x5=3\n",
    "data = data[(data['n_k'].astype(int)  == 2) & (data['n_1k'].astype(int)  == 3)]\n",
    "print(f\"Filtered data length: {len(data)}\")\n",
    "\n",
    "# Function to assign each value to a bin index\n",
    "def assign_bin(value, bins):\n",
    "    return np.digitize(value, bins) - 1  # Shift to 0-based indexing\n",
    "\n",
    "# Apply the binning function to x1, x2, and x3 columns\n",
    "data['class_id_k'] = data['id_k'].apply(lambda x: assign_bin(x, x1_bins))\n",
    "data['class_iq_k'] = data['iq_k'].apply(lambda x: assign_bin(x, x2_bins))\n",
    "data['class_epsilon_k'] = data['epsilon_k'].apply(lambda x: assign_bin(x, x3_bins))\n",
    "\n",
    "# Combine the class indices to form a unique class ID for each combination of x1, x2, x3 bins\n",
    "data['class_id'] = data['class_id_k'].astype(str) + '_' + \\\n",
    "                   data['class_iq_k'].astype(str) + '_' + \\\n",
    "                   data['class_epsilon_k'].astype(str)\n",
    "\n",
    "# Filter classes with at least 60 samples\n",
    "sufficient_samples = data['class_id'].value_counts()\n",
    "valid_classes = sufficient_samples[sufficient_samples >= 60].index\n",
    "print(f\"Valid classes count: {len(valid_classes)}\")\n",
    "filtered_data = data[data['class_id'].isin(valid_classes)]\n",
    "filtered_data.to_csv('../Data/sampled_data.csv', index=False)\n",
    "print(f\"sampled data length: {len(filtered_data)}\")\n",
    "# Group by 'class_id' and split each group into 48 for training and 12 for testing\n",
    "train_data = []\n",
    "test_data = []\n",
    "\n",
    "for class_id in valid_classes:\n",
    "    class_data = filtered_data[filtered_data['class_id'] == class_id]\n",
    "    # Sample 48 points for training and 12 points for testing\n",
    "    train_class = class_data.sample(n=48, random_state=42)\n",
    "    test_class = class_data.drop(train_class.index).sample(n=12, random_state=42)\n",
    "    \n",
    "    train_data.append(train_class)\n",
    "    test_data.append(test_class)\n",
    "\n",
    "# Concatenate the lists into final training and testing datasets\n",
    "train_data = pd.concat(train_data, axis=0)\n",
    "test_data = pd.concat(test_data, axis=0)\n",
    "\n",
    "# Save the datasets\n",
    "train_data.to_csv('../Data/train_data.csv', index=False)\n",
    "test_data.to_csv('../Data/test_data.csv', index=False)\n",
    "\n",
    "print(f\"Training data shape: {train_data.shape}\")\n",
    "print(f\"Testing data shape: {test_data.shape}\")\n"
   ]
  },
  {
   "cell_type": "code",
   "execution_count": null,
   "metadata": {},
   "outputs": [
    {
     "name": "stdout",
     "output_type": "stream",
     "text": [
      "586896\n",
      "3531\n"
     ]
    },
    {
     "name": "stderr",
     "output_type": "stream",
     "text": [
      "C:\\Users\\AB-SMART\\AppData\\Local\\Temp\\ipykernel_1232\\3991525964.py:33: DeprecationWarning: DataFrameGroupBy.apply operated on the grouping columns. This behavior is deprecated, and in a future version of pandas the grouping columns will be excluded from the operation. Either pass `include_groups=False` to exclude the groupings or explicitly select the grouping columns after groupby to silence this warning.\n",
      "  sampled_data = filtered_data.groupby('class_id').apply(lambda x: x.sample(n=60, replace=False)).reset_index(drop=True)\n"
     ]
    },
    {
     "name": "stdout",
     "output_type": "stream",
     "text": [
      "268635\n"
     ]
    }
   ],
   "source": [
    "\"\"\"\n",
    "\n",
    "# Define the ranges and step sizes for x1, x2, and x3\n",
    "step_x1_x2 = 10          # Step size for x1 and x2 in Amps\n",
    "step_x3 = np.pi / 18     # Step size for x3 in radians\n",
    "\n",
    "# Generate the bins for each variable\n",
    "x1_bins = np.arange(-240, 0, step_x1_x2)\n",
    "x2_bins = np.arange(0, 241, step_x1_x2)\n",
    "x3_bins = np.arange(-np.pi, np.pi + step_x3, step_x3)\n",
    "\n",
    "# Filter for rows where x4=2 and x5=3\n",
    "data = data[(data['n_k'].astype(int)  == 2) & (data['n_1k'].astype(int)  == 3)]\n",
    "print(len(data))\n",
    "# Function to assign each value to a bin index\n",
    "def assign_bin(value, bins):\n",
    "    return np.digitize(value, bins) - 1  # Shift to 0-based indexing\n",
    "\n",
    "# Apply the binning function to x1, x2, and x3 columns\n",
    "data['class_id_k'] = data['id_k'].apply(lambda x: assign_bin(x, x1_bins))\n",
    "data['class_iq_k'] = data['iq_k'].apply(lambda x: assign_bin(x, x2_bins))\n",
    "data['class_epsilon_k'] = data['epsilon_k'].apply(lambda x: assign_bin(x, x3_bins))\n",
    "\n",
    "# Combine the class indices to form a unique class ID for each combination of x1, x2, x3 bins\n",
    "data['class_id'] = data['class_id_k'].astype(str) + '_' + \\\n",
    "                   data['class_iq_k'].astype(str) + '_' + \\\n",
    "                   data['class_epsilon_k'].astype(str)\n",
    "# Filter classes with at least 60 samples\n",
    "sufficient_samples = data['class_id'].value_counts()\n",
    "valid_classes = sufficient_samples[sufficient_samples >= 60].index\n",
    "print(len(valid_classes))\n",
    "filtered_data = data[data['class_id'].isin(valid_classes)]\n",
    "\n",
    "# Group by 'class_id' and sample 60 points per class without replacement\n",
    "sampled_data = filtered_data.groupby('class_id').apply(lambda x: x.sample(n=60, replace=False)).reset_index(drop=True)\n",
    "print(len(filtered_data))\n",
    "sampled_data.to_csv('../Data/sampled_data.csv', index=False)\"\"\"\n",
    "\n",
    "\n"
   ]
  },
  {
   "cell_type": "code",
   "execution_count": null,
   "metadata": {},
   "outputs": [
    {
     "data": {
      "image/png": "[encoded data removed]",
      "text/plain": [
       "<Figure size 1800x600 with 3 Axes>"
      ]
     },
     "metadata": {},
     "output_type": "display_data"
    }
   ],
   "source": [
    "import numpy as np\n",
    "import matplotlib.pyplot as plt\n",
    "\n",
    "# Define the ranges and step sizes for x1, x2, and x3\n",
    "step_x1_x2 = 10          # Step size for x1 and x2 in Amps\n",
    "step_x3 = np.pi / 18     # Step size for x3 in radians\n",
    "\n",
    "# Generate the bins for each variable\n",
    "x1_bins = np.arange(-240, 0, step_x1_x2)\n",
    "x2_bins = np.arange(0, 241, step_x1_x2)\n",
    "x3_bins = np.arange(-np.pi, np.pi + step_x3, step_x3)\n",
    "\n",
    "# Function to assign each value to a bin index\n",
    "def assign_bin(value, bins):\n",
    "    return np.digitize(value, bins) - 1  # Shift to 0-based indexing\n",
    "\n",
    "# Assuming sampled_data has the final sampled data from the previous steps\n",
    "# Apply the binning function to x1, x2, and x3 columns for training and testing sets\n",
    "\n",
    "train_data['class_id_k'] = train_data['id_k'].apply(lambda x: assign_bin(x, x1_bins))\n",
    "train_data['class_iq_k'] = train_data['iq_k'].apply(lambda x: assign_bin(x, x2_bins))\n",
    "train_data['class_epsilon_k'] = train_data['epsilon_k'].apply(lambda x: assign_bin(x, x3_bins))\n",
    "\n",
    "test_data['class_id_k'] = test_data['id_k'].apply(lambda x: assign_bin(x, x1_bins))\n",
    "test_data['class_iq_k'] = test_data['iq_k'].apply(lambda x: assign_bin(x, x2_bins))\n",
    "test_data['class_epsilon_k'] = test_data['epsilon_k'].apply(lambda x: assign_bin(x, x3_bins))\n",
    "\n",
    "# Function to calculate missing bins after sampling\n",
    "def get_missing_bins(sampled_data, bins, column_name):\n",
    "    # Find unique bin indices for the given column\n",
    "    valid_bins = set(sampled_data[column_name].unique())\n",
    "    all_bins = set(range(len(bins) - 1))  # All possible bins\n",
    "    missing_bins = all_bins - valid_bins  # Missing bins\n",
    "    return sorted(missing_bins)\n",
    "\n",
    "# Get missing bins for each variable\n",
    "missing_x1_bins = get_missing_bins(train_data, x1_bins, 'class_id_k')\n",
    "missing_x2_bins = get_missing_bins(train_data, x2_bins, 'class_iq_k')\n",
    "missing_x3_bins = get_missing_bins(train_data, x3_bins, 'class_epsilon_k')\n",
    "\n",
    "# Visualizing the missing bins for each variable\n",
    "fig, axes = plt.subplots(1, 3, figsize=(18, 6))\n",
    "\n",
    "# Plot for id_k (x1 variable)\n",
    "axes[0].bar(np.arange(len(x1_bins) - 1), np.ones(len(x1_bins) - 1), color='blue', label='Present')\n",
    "axes[0].bar(missing_x1_bins, np.ones(len(missing_x1_bins)), color='red', label='Missing')\n",
    "axes[0].set_title('Missing x1 bins (id_k)')\n",
    "axes[0].set_xlabel('Bins')\n",
    "axes[0].set_ylabel('Frequency')\n",
    "axes[0].legend()\n",
    "\n",
    "# Plot for iq_k (x2 variable)\n",
    "axes[1].bar(np.arange(len(x2_bins) - 1), np.ones(len(x2_bins) - 1), color='blue', label='Present')\n",
    "axes[1].bar(missing_x2_bins, np.ones(len(missing_x2_bins)), color='red', label='Missing')\n",
    "axes[1].set_title('Missing x2 bins (iq_k)')\n",
    "axes[1].set_xlabel('Bins')\n",
    "axes[1].set_ylabel('Frequency')\n",
    "axes[1].legend()\n",
    "\n",
    "# Plot for epsilon_k (x3 variable)\n",
    "axes[2].bar(np.arange(len(x3_bins) - 1), np.ones(len(x3_bins) - 1), color='blue', label='Present')\n",
    "axes[2].bar(missing_x3_bins, np.ones(len(missing_x3_bins)), color='red', label='Missing')\n",
    "axes[2].set_title('Missing x3 bins (epsilon_k)')\n",
    "axes[2].set_xlabel('Bins')\n",
    "axes[2].set_ylabel('Frequency')\n",
    "axes[2].legend()\n",
    "\n",
    "plt.tight_layout()\n",
    "plt.show()\n"
   ]
  },
  {
   "cell_type": "code",
   "execution_count": 40,
   "metadata": {},
   "outputs": [
    {
     "name": "stdout",
     "output_type": "stream",
     "text": [
      "image saved at ../Images/paper_img/eliminated.png\n"
     ]
    },
    {
     "data": {
      "text/plain": [
       "<Figure size 640x480 with 0 Axes>"
      ]
     },
     "metadata": {},
     "output_type": "display_data"
    }
   ],
   "source": [
    "# Save the plot to a specific location\n",
    "save_path = '../Images/paper_img/eliminated.png'  # Change this path as needed\n",
    "plt.savefig(save_path, format='png', dpi=300, bbox_inches='tight')\n",
    "print(\"image saved at \"+save_path)"
   ]
  },
  {
   "cell_type": "code",
   "execution_count": 41,
   "metadata": {},
   "outputs": [
    {
     "data": {
      "text/plain": [
       "233"
      ]
     },
     "execution_count": 41,
     "metadata": {},
     "output_type": "execute_result"
    }
   ],
   "source": [
    "import gc\n",
    "torch.cuda.empty_cache()\n",
    "gc.collect()\n"
   ]
  }
 ],
 "metadata": {
  "kernelspec": {
   "display_name": "Python 3",
   "language": "python",
   "name": "python3"
  },
  "language_info": {
   "codemirror_mode": {
    "name": "ipython",
    "version": 3
   },
   "file_extension": ".py",
   "mimetype": "text/x-python",
   "name": "python",
   "nbconvert_exporter": "python",
   "pygments_lexer": "ipython3",
   "version": "3.9.0"
  }
 },
 "nbformat": 4,
 "nbformat_minor": 2
}
